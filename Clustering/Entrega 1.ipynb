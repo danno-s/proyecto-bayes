{
 "cells": [
  {
   "cell_type": "markdown",
   "metadata": {},
   "source": [
    "# Entrega 1\n"
   ]
  },
  {
   "cell_type": "code",
   "execution_count": 1,
   "metadata": {},
   "outputs": [
    {
     "name": "stderr",
     "output_type": "stream",
     "text": [
      "/usr/local/lib/python3.6/dist-packages/ipykernel_launcher.py:5: DeprecationWarning: context interface will be changed.  Use explicit conn.commit() or conn.rollback().\n",
      "  \"\"\"\n"
     ]
    },
    {
     "data": {
      "text/html": [
       "<div>\n",
       "<style scoped>\n",
       "    .dataframe tbody tr th:only-of-type {\n",
       "        vertical-align: middle;\n",
       "    }\n",
       "\n",
       "    .dataframe tbody tr th {\n",
       "        vertical-align: top;\n",
       "    }\n",
       "\n",
       "    .dataframe thead th {\n",
       "        text-align: right;\n",
       "    }\n",
       "</style>\n",
       "<table border=\"1\" class=\"dataframe\">\n",
       "  <thead>\n",
       "    <tr style=\"text-align: right;\">\n",
       "      <th></th>\n",
       "      <th>id</th>\n",
       "      <th>sesión</th>\n",
       "      <th>usuario</th>\n",
       "      <th>inittime</th>\n",
       "      <th>endtime</th>\n",
       "    </tr>\n",
       "  </thead>\n",
       "  <tbody>\n",
       "    <tr>\n",
       "      <th>0</th>\n",
       "      <td>1</td>\n",
       "      <td>1 19</td>\n",
       "      <td>1</td>\n",
       "      <td>2016-05-12 10:12:04</td>\n",
       "      <td>2016-05-12 10:13:27</td>\n",
       "    </tr>\n",
       "    <tr>\n",
       "      <th>1</th>\n",
       "      <td>2</td>\n",
       "      <td>19</td>\n",
       "      <td>1</td>\n",
       "      <td>2016-05-12 10:15:17</td>\n",
       "      <td>2016-05-12 10:16:27</td>\n",
       "    </tr>\n",
       "    <tr>\n",
       "      <th>2</th>\n",
       "      <td>3</td>\n",
       "      <td>19 1 1 19 19</td>\n",
       "      <td>1</td>\n",
       "      <td>2016-05-12 10:18:28</td>\n",
       "      <td>2016-05-12 10:21:28</td>\n",
       "    </tr>\n",
       "    <tr>\n",
       "      <th>3</th>\n",
       "      <td>4</td>\n",
       "      <td>1</td>\n",
       "      <td>1</td>\n",
       "      <td>2016-05-12 11:03:31</td>\n",
       "      <td>2016-05-12 11:03:38</td>\n",
       "    </tr>\n",
       "    <tr>\n",
       "      <th>4</th>\n",
       "      <td>5</td>\n",
       "      <td>1 14 14 1 1 32 32</td>\n",
       "      <td>1</td>\n",
       "      <td>2016-05-12 11:07:12</td>\n",
       "      <td>2016-05-12 11:11:36</td>\n",
       "    </tr>\n",
       "  </tbody>\n",
       "</table>\n",
       "</div>"
      ],
      "text/plain": [
       "   id             sesión  usuario            inittime             endtime\n",
       "0   1               1 19        1 2016-05-12 10:12:04 2016-05-12 10:13:27\n",
       "1   2                 19        1 2016-05-12 10:15:17 2016-05-12 10:16:27\n",
       "2   3       19 1 1 19 19        1 2016-05-12 10:18:28 2016-05-12 10:21:28\n",
       "3   4                  1        1 2016-05-12 11:03:31 2016-05-12 11:03:38\n",
       "4   5  1 14 14 1 1 32 32        1 2016-05-12 11:07:12 2016-05-12 11:11:36"
      ]
     },
     "execution_count": 1,
     "metadata": {},
     "output_type": "execute_result"
    }
   ],
   "source": [
    "import MySQLdb as mdb\n",
    "import pandas as pd\n",
    "\n",
    "con = mdb.connect(\"127.0.0.1\", \"guidecapture\", \"guidecapture\", \"guide_informe_final_corfo\")\n",
    "with con:\n",
    "    cur = con.cursor()\n",
    "    cur.execute(\"SELECT id, sequence, user_id, inittime, endtime FROM sessions;\")\n",
    "    rows = cur.fetchall()\n",
    "    df = pd.DataFrame([[attribute for attribute in session] for session in rows])\n",
    "    df.rename(columns={0:\"id\", 1:\"sesión\", 2:\"usuario\", 3:\"inittime\", 4:\"endtime\"}, inplace=True)\n",
    "\n",
    "df.head()"
   ]
  },
  {
   "cell_type": "code",
   "execution_count": 2,
   "metadata": {},
   "outputs": [],
   "source": [
    "import numpy as np\n",
    "\n",
    "# Transforms a session string into a dictionary containing the number of visits for each page in the session.\n",
    "def total_visits(session):\n",
    "    visits = session.split(\" \")\n",
    "    total_visits = {}\n",
    "    for v in visits:\n",
    "        if v in total_visits:\n",
    "            total_visits[v] += 1\n",
    "        else:\n",
    "            total_visits[v] = 1\n",
    "    return total_visits\n",
    "\n",
    "# Distance function for the clustering algorithm.\n",
    "def jaccard(s1, s2):\n",
    "    s1_visits, s2_visits = total_visits(s1), total_visits(s2)\n",
    "    all_pages = set(list(s1_visits.keys()) + list(s2_visits.keys()))\n",
    "    intersection = 0\n",
    "    union = len(all_pages)\n",
    "    for key in all_pages:\n",
    "        if key in s1_visits and key in s2_visits:\n",
    "            intersection += 1\n",
    "    return intersection / union"
   ]
  },
  {
   "cell_type": "markdown",
   "metadata": {},
   "source": [
    "Dado que los datos son strings, debemos calcular manualmente nuestra matriz de distancia."
   ]
  },
  {
   "cell_type": "code",
   "execution_count": 3,
   "metadata": {},
   "outputs": [
    {
     "name": "stdout",
     "output_type": "stream",
     "text": [
      "100.00%\r"
     ]
    }
   ],
   "source": [
    "sessions = df['sesión']\n",
    "\n",
    "DISTANCE_MATRIX = np.zeros((len(sessions), len(sessions)))\n",
    "\n",
    "for index_1, session_1 in enumerate(sessions):\n",
    "    print(\"{0:.2%}\\r\".format((index_1 + 1) / len(sessions)), end=\"\")\n",
    "    for index_2, session_2 in enumerate(sessions):\n",
    "        if index_1 < index_2:\n",
    "            DISTANCE_MATRIX[index_1, index_2] = 1 - jaccard(session_1, session_2)\n",
    "        elif index_1 == index_2:\n",
    "            DISTANCE_MATRIX[index_1, index_2] = 0\n",
    "        else:\n",
    "            continue"
   ]
  },
  {
   "cell_type": "code",
   "execution_count": 4,
   "metadata": {},
   "outputs": [
    {
     "name": "stdout",
     "output_type": "stream",
     "text": [
      "[[1.  0.5 1.  ... 0.5 1.  1. ]\n",
      " [0.5 1.  0.5 ... 0.  0.5 0.5]\n",
      " [1.  0.5 1.  ... 0.5 1.  1. ]\n",
      " ...\n",
      " [0.5 0.  0.5 ... 1.  0.5 0.5]\n",
      " [1.  0.5 1.  ... 0.5 1.  1. ]\n",
      " [1.  0.5 1.  ... 0.5 1.  1. ]]\n"
     ]
    }
   ],
   "source": [
    "print(DISTANCE_MATRIX)"
   ]
  }
 ],
 "metadata": {
  "kernelspec": {
   "display_name": "Python 3",
   "language": "python",
   "name": "python3"
  },
  "language_info": {
   "codemirror_mode": {
    "name": "ipython",
    "version": 3
   },
   "file_extension": ".py",
   "mimetype": "text/x-python",
   "name": "python",
   "nbconvert_exporter": "python",
   "pygments_lexer": "ipython3",
   "version": "3.6.5"
  }
 },
 "nbformat": 4,
 "nbformat_minor": 2
}

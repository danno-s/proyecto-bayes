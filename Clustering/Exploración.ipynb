{
 "cells": [
  {
   "cell_type": "markdown",
   "metadata": {},
   "source": [
    "# Exploración de datos de sesiones web"
   ]
  },
  {
   "cell_type": "markdown",
   "metadata": {},
   "source": [
    "Los datos sobre las sesiones se encuentran en una base de datos de mysql, en la tabla sessions generada por el código del repositorio userEmpathetic. Esta tabla tiene la siguiente estructura (Ignorando los campos redundantes para nuestro análisis)."
   ]
  },
  {
   "cell_type": "code",
   "execution_count": 69,
   "metadata": {},
   "outputs": [
    {
     "name": "stderr",
     "output_type": "stream",
     "text": [
      "/usr/local/lib/python3.6/dist-packages/ipykernel_launcher.py:5: DeprecationWarning: context interface will be changed.  Use explicit conn.commit() or conn.rollback().\n",
      "  \"\"\"\n"
     ]
    },
    {
     "data": {
      "text/html": [
       "<div>\n",
       "<style scoped>\n",
       "    .dataframe tbody tr th:only-of-type {\n",
       "        vertical-align: middle;\n",
       "    }\n",
       "\n",
       "    .dataframe tbody tr th {\n",
       "        vertical-align: top;\n",
       "    }\n",
       "\n",
       "    .dataframe thead th {\n",
       "        text-align: right;\n",
       "    }\n",
       "</style>\n",
       "<table border=\"1\" class=\"dataframe\">\n",
       "  <thead>\n",
       "    <tr style=\"text-align: right;\">\n",
       "      <th></th>\n",
       "      <th>id</th>\n",
       "      <th>sesión</th>\n",
       "      <th>usuario</th>\n",
       "      <th>inittime</th>\n",
       "      <th>endtime</th>\n",
       "    </tr>\n",
       "  </thead>\n",
       "  <tbody>\n",
       "    <tr>\n",
       "      <th>0</th>\n",
       "      <td>1</td>\n",
       "      <td>1 19</td>\n",
       "      <td>1</td>\n",
       "      <td>2016-05-12 10:12:04</td>\n",
       "      <td>2016-05-12 10:13:27</td>\n",
       "    </tr>\n",
       "    <tr>\n",
       "      <th>1</th>\n",
       "      <td>2</td>\n",
       "      <td>19</td>\n",
       "      <td>1</td>\n",
       "      <td>2016-05-12 10:15:17</td>\n",
       "      <td>2016-05-12 10:16:27</td>\n",
       "    </tr>\n",
       "    <tr>\n",
       "      <th>2</th>\n",
       "      <td>3</td>\n",
       "      <td>19 1 1 19 19</td>\n",
       "      <td>1</td>\n",
       "      <td>2016-05-12 10:18:28</td>\n",
       "      <td>2016-05-12 10:21:28</td>\n",
       "    </tr>\n",
       "    <tr>\n",
       "      <th>3</th>\n",
       "      <td>4</td>\n",
       "      <td>1</td>\n",
       "      <td>1</td>\n",
       "      <td>2016-05-12 11:03:31</td>\n",
       "      <td>2016-05-12 11:03:38</td>\n",
       "    </tr>\n",
       "    <tr>\n",
       "      <th>4</th>\n",
       "      <td>5</td>\n",
       "      <td>1 14 14 1 1 32 32</td>\n",
       "      <td>1</td>\n",
       "      <td>2016-05-12 11:07:12</td>\n",
       "      <td>2016-05-12 11:11:36</td>\n",
       "    </tr>\n",
       "  </tbody>\n",
       "</table>\n",
       "</div>"
      ],
      "text/plain": [
       "   id             sesión  usuario            inittime             endtime\n",
       "0   1               1 19        1 2016-05-12 10:12:04 2016-05-12 10:13:27\n",
       "1   2                 19        1 2016-05-12 10:15:17 2016-05-12 10:16:27\n",
       "2   3       19 1 1 19 19        1 2016-05-12 10:18:28 2016-05-12 10:21:28\n",
       "3   4                  1        1 2016-05-12 11:03:31 2016-05-12 11:03:38\n",
       "4   5  1 14 14 1 1 32 32        1 2016-05-12 11:07:12 2016-05-12 11:11:36"
      ]
     },
     "execution_count": 69,
     "metadata": {},
     "output_type": "execute_result"
    }
   ],
   "source": [
    "import MySQLdb as mdb\n",
    "import pandas as pd\n",
    "\n",
    "con = mdb.connect(\"127.0.0.1\", \"guidecapture\", \"guidecapture\", \"guide_informe_final_corfo\")\n",
    "with con:\n",
    "    cur = con.cursor()\n",
    "    cur.execute(\"SELECT id, sequence, user_id, inittime, endtime FROM sessions;\")\n",
    "    rows = cur.fetchall()\n",
    "    df = pd.DataFrame([[attribute for attribute in session] for session in rows])\n",
    "    df.rename(columns={0:\"id\", 1:\"sesión\", 2:\"usuario\", 3:\"inittime\", 4:\"endtime\"}, inplace=True)\n",
    "\n",
    "df.head()"
   ]
  },
  {
   "cell_type": "markdown",
   "metadata": {},
   "source": [
    "El atributo sesión, está compuesto por una serie de índices, que indica por cuales páginas se pasó, y en cual orden."
   ]
  },
  {
   "cell_type": "code",
   "execution_count": 70,
   "metadata": {},
   "outputs": [
    {
     "data": {
      "image/png": "[encoded data removed]",
      "text/plain": [
       "<Figure size 432x288 with 1 Axes>"
      ]
     },
     "metadata": {},
     "output_type": "display_data"
    }
   ],
   "source": [
    "import matplotlib.pyplot as plt\n",
    "import numpy as np\n",
    "\n",
    "session_visits = np.asarray([len(s.split(\" \")) for s in df['sesión']])\n",
    "\n",
    "plt.hist(session_visits, bins=30, range=(1,25))\n",
    "plt.show()"
   ]
  },
  {
   "cell_type": "markdown",
   "metadata": {},
   "source": [
    "Es claro de los datos que la mayoría de las sesiones se encuentran entre 1 y 20 páginas distintas. Pero también hay una cantidad importante de datos pasadas las 20 visitas por sesión. Por lo que no sería mala idea considerar el logaritmo de las visitas por sesión como una medida importante."
   ]
  },
  {
   "cell_type": "code",
   "execution_count": 71,
   "metadata": {},
   "outputs": [
    {
     "data": {
      "image/png": "[encoded data removed]",
      "text/plain": [
       "<Figure size 432x288 with 1 Axes>"
      ]
     },
     "metadata": {},
     "output_type": "display_data"
    }
   ],
   "source": [
    "plt.hist(session_visits, bins=30)\n",
    "plt.semilogy(2)\n",
    "plt.show()"
   ]
  },
  {
   "cell_type": "markdown",
   "metadata": {},
   "source": [
    "Los otros atributos importantes, son inittime y endtime, los cuales obviamente ilustran cuando se comienza una sesión, y cuando se termina. Podemos similarmente ver la distribución de estos tiempos para todas las distintas sesiones."
   ]
  },
  {
   "cell_type": "code",
   "execution_count": 85,
   "metadata": {},
   "outputs": [
    {
     "data": {
      "image/png": "[encoded data removed]",
      "text/plain": [
       "<Figure size 432x288 with 1 Axes>"
      ]
     },
     "metadata": {},
     "output_type": "display_data"
    }
   ],
   "source": [
    "session_lengths = [(end - start).total_seconds() for start, end in zip(df['inittime'], df['endtime'])]\n",
    "\n",
    "plt.hist(session_lengths)\n",
    "plt.show()"
   ]
  },
  {
   "cell_type": "markdown",
   "metadata": {},
   "source": [
    "Nuevamente vemos una distribución similar a una exponencial, por lo que aplicamos logaritmo al eje y para tener una mejor visualización de los datos."
   ]
  },
  {
   "cell_type": "code",
   "execution_count": 86,
   "metadata": {},
   "outputs": [
    {
     "data": {
      "image/png": "[encoded data removed]",
      "text/plain": [
       "<Figure size 432x288 with 1 Axes>"
      ]
     },
     "metadata": {},
     "output_type": "display_data"
    }
   ],
   "source": [
    "plt.hist(session_lengths)\n",
    "plt.semilogy(2)\n",
    "plt.show()"
   ]
  },
  {
   "cell_type": "markdown",
   "metadata": {},
   "source": [
    "Ahora se logra observar un comportamiento casi lineal del tiempo con respecto a la frecuencia con la que se dan, lo que comprueba nuestra intuición de que el comportamiento inicial era exponencial."
   ]
  }
 ],
 "metadata": {
  "kernelspec": {
   "display_name": "Python 3",
   "language": "python",
   "name": "python3"
  },
  "language_info": {
   "codemirror_mode": {
    "name": "ipython",
    "version": 3
   },
   "file_extension": ".py",
   "mimetype": "text/x-python",
   "name": "python",
   "nbconvert_exporter": "python",
   "pygments_lexer": "ipython3",
   "version": "3.6.5"
  }
 },
 "nbformat": 4,
 "nbformat_minor": 2
}

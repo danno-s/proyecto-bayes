{
 "cells": [
  {
   "cell_type": "markdown",
   "metadata": {},
   "source": [
    "# Entrega 1\n"
   ]
  },
  {
   "cell_type": "markdown",
   "metadata": {},
   "source": [
    "Comenzando desde la base de lo desarrollado en la exploración de los datos, implementaremos nuestra propia versión de K-Means, debido a que este algoritmo necesita un trato especial para datos no-numéricos (en particular discretos).\n",
    "\n",
    "Esta versión de K-Means consistirá en el K-Means clásico, pero que acepta una función de distancia arbitraria y una función de actualización de centroide arbitraria. Debido a que estamos en un ámbito discreto, el centroide nuevo será uno de los puntos del cluster."
   ]
  },
  {
   "cell_type": "code",
   "execution_count": 1,
   "metadata": {},
   "outputs": [],
   "source": [
    "import random\n",
    "######################################\n",
    "#       Discrete K-Means Model       #\n",
    "######################################\n",
    "\n",
    "class DiscreteKMeans():\n",
    "    def __init__(self, n_clusters, distance_fun):\n",
    "        '''Constructor for the model.\n",
    "        ----------\n",
    "        Parameters:\n",
    "            n_clusters:\n",
    "                number of clusters to create.\n",
    "            distance_fun:\n",
    "                callable that takes two instances of the observations intended for this model.\n",
    "                returns the distance between the instances in the model.\n",
    "        ''' \n",
    "        self.n_clusters = n_clusters\n",
    "        self.distance_fun = distance_fun\n",
    "        \n",
    "    def centroid_fun(self, cluster, new_centroids = []):\n",
    "        '''Recalculates the centroid for a given cluster. Given the centroid already recalculated\n",
    "        in this iteration.\n",
    "        ----------\n",
    "        Parameters:\n",
    "            cluster:\n",
    "                items containes in the cluster.\n",
    "            new_centroids:\n",
    "                centroids already calculated in this iteration.\n",
    "        '''\n",
    "        inner_distances = list(map(\n",
    "            lambda item: sum(\n",
    "                map(lambda item2: self.distance_fun(item, item2) ** 2, cluster)\n",
    "            ),\n",
    "            cluster\n",
    "        ))\n",
    "        \n",
    "        centroid = cluster[inner_distances.index(min(inner_distances))]\n",
    "        while centroid in new_centroids:\n",
    "            inner_distances.remove(min(inner_distances))\n",
    "            centroid = cluster[inner_distances.index(min(inner_distances))]\n",
    "        return centroid\n",
    "        \n",
    "    \n",
    "    def fit(self, observations, max_iter = 100):\n",
    "        '''Trains the model with the given data.\n",
    "        ----------\n",
    "        Parameters:\n",
    "            observations: arraylike of objects.\n",
    "        '''\n",
    "        # Non repeated observations\n",
    "        observations = set(observations)\n",
    "        \n",
    "        # The algorithm starts by selecting the initial centroids randomly.\n",
    "        self.centroids = random.sample(observations, k =self.n_clusters)\n",
    "        \n",
    "        self.clusters = dict.fromkeys(self.centroids, [])\n",
    "        \n",
    "        # Training loop\n",
    "        n_iter = 0\n",
    "        while(n_iter < max_iter):\n",
    "            n_iter += 1\n",
    "            print(\"Iteration {}: {}\".format(n_iter, self.centroids))\n",
    "            \n",
    "            # Assign every observation to the closest cluster.\n",
    "            for item in observations:\n",
    "                centroid_distances = list(\n",
    "                    map(\n",
    "                        lambda centroid: self.distance_fun(item, centroid), \n",
    "                        self.centroids\n",
    "                    )\n",
    "                )\n",
    "                nearest_centroid = self.centroids[centroid_distances.index(min(centroid_distances))]\n",
    "                self.clusters[nearest_centroid].append(item)\n",
    "                \n",
    "            # Recalculate the centroids based on centroid_fun.\n",
    "            new_clusters = {}\n",
    "            for centroid, cluster in self.clusters.items():\n",
    "                new_centroid = self.centroid_fun(cluster, list(new_clusters.keys()))\n",
    "                new_clusters[new_centroid] = self.clusters[centroid]\n",
    "            \n",
    "            # If centroids didn't change, then continue.\n",
    "            if self.centroids == list(new_clusters.keys()):\n",
    "                break\n",
    "            \n",
    "            # To continue, change the instance centroids, and erase the contents of every cluster\n",
    "            self.centroids = list(new_clusters.keys())\n",
    "            self.clusters = dict.fromkeys(self.centroids, [])\n",
    "            \n",
    "    def wcs(self):\n",
    "        distances = dict.fromkeys(self.clusters.keys())\n",
    "        for centroid, cluster in self.clusters.items():\n",
    "            distances[centroid] = sum(map(lambda item: self.distance_fun(item, centroid) ** 2, cluster))\n",
    "        return distances\n",
    "    \n",
    "    def bcs(self):\n",
    "        general_centroid = self.centroid_fun([item for cluster in self.clusters.values() for item in cluster])\n",
    "        distances = dict.fromkeys(self.clusters.keys())\n",
    "        for centroid in self.clusters.keys():\n",
    "            distances[centroid] = self.distance_fun(general_centroid, centroid) ** 2\n",
    "        return distances"
   ]
  },
  {
   "cell_type": "markdown",
   "metadata": {},
   "source": [
    "Con este modelo realizamos una clusterización de los datos."
   ]
  },
  {
   "cell_type": "code",
   "execution_count": 2,
   "metadata": {},
   "outputs": [
    {
     "name": "stderr",
     "output_type": "stream",
     "text": [
      "/usr/local/lib/python3.6/dist-packages/ipykernel_launcher.py:5: DeprecationWarning: context interface will be changed.  Use explicit conn.commit() or conn.rollback().\n",
      "  \"\"\"\n"
     ]
    },
    {
     "data": {
      "text/html": [
       "<div>\n",
       "<style scoped>\n",
       "    .dataframe tbody tr th:only-of-type {\n",
       "        vertical-align: middle;\n",
       "    }\n",
       "\n",
       "    .dataframe tbody tr th {\n",
       "        vertical-align: top;\n",
       "    }\n",
       "\n",
       "    .dataframe thead th {\n",
       "        text-align: right;\n",
       "    }\n",
       "</style>\n",
       "<table border=\"1\" class=\"dataframe\">\n",
       "  <thead>\n",
       "    <tr style=\"text-align: right;\">\n",
       "      <th></th>\n",
       "      <th>id</th>\n",
       "      <th>sesión</th>\n",
       "      <th>usuario</th>\n",
       "      <th>inittime</th>\n",
       "      <th>endtime</th>\n",
       "    </tr>\n",
       "  </thead>\n",
       "  <tbody>\n",
       "    <tr>\n",
       "      <th>0</th>\n",
       "      <td>1</td>\n",
       "      <td>1 19</td>\n",
       "      <td>1</td>\n",
       "      <td>2016-05-12 10:12:04</td>\n",
       "      <td>2016-05-12 10:13:27</td>\n",
       "    </tr>\n",
       "    <tr>\n",
       "      <th>1</th>\n",
       "      <td>2</td>\n",
       "      <td>19</td>\n",
       "      <td>1</td>\n",
       "      <td>2016-05-12 10:15:17</td>\n",
       "      <td>2016-05-12 10:16:27</td>\n",
       "    </tr>\n",
       "    <tr>\n",
       "      <th>2</th>\n",
       "      <td>3</td>\n",
       "      <td>19 1 1 19 19</td>\n",
       "      <td>1</td>\n",
       "      <td>2016-05-12 10:18:28</td>\n",
       "      <td>2016-05-12 10:21:28</td>\n",
       "    </tr>\n",
       "    <tr>\n",
       "      <th>3</th>\n",
       "      <td>4</td>\n",
       "      <td>1</td>\n",
       "      <td>1</td>\n",
       "      <td>2016-05-12 11:03:31</td>\n",
       "      <td>2016-05-12 11:03:38</td>\n",
       "    </tr>\n",
       "    <tr>\n",
       "      <th>4</th>\n",
       "      <td>5</td>\n",
       "      <td>1 14 14 1 1 32 32</td>\n",
       "      <td>1</td>\n",
       "      <td>2016-05-12 11:07:12</td>\n",
       "      <td>2016-05-12 11:11:36</td>\n",
       "    </tr>\n",
       "  </tbody>\n",
       "</table>\n",
       "</div>"
      ],
      "text/plain": [
       "   id             sesión  usuario            inittime             endtime\n",
       "0   1               1 19        1 2016-05-12 10:12:04 2016-05-12 10:13:27\n",
       "1   2                 19        1 2016-05-12 10:15:17 2016-05-12 10:16:27\n",
       "2   3       19 1 1 19 19        1 2016-05-12 10:18:28 2016-05-12 10:21:28\n",
       "3   4                  1        1 2016-05-12 11:03:31 2016-05-12 11:03:38\n",
       "4   5  1 14 14 1 1 32 32        1 2016-05-12 11:07:12 2016-05-12 11:11:36"
      ]
     },
     "execution_count": 2,
     "metadata": {},
     "output_type": "execute_result"
    }
   ],
   "source": [
    "import MySQLdb as mdb\n",
    "import pandas as pd\n",
    "\n",
    "con = mdb.connect(\"127.0.0.1\", \"guidecapture\", \"guidecapture\", \"guide_informe_final_corfo\")\n",
    "with con:\n",
    "    cur = con.cursor()\n",
    "    cur.execute(\"SELECT id, sequence, user_id, inittime, endtime FROM sessions;\")\n",
    "    rows = cur.fetchall()\n",
    "    df = pd.DataFrame([[attribute for attribute in session] for session in rows])\n",
    "    df.rename(columns={0:\"id\", 1:\"sesión\", 2:\"usuario\", 3:\"inittime\", 4:\"endtime\"}, inplace=True)\n",
    "\n",
    "df.head()"
   ]
  },
  {
   "cell_type": "code",
   "execution_count": 3,
   "metadata": {},
   "outputs": [],
   "source": [
    "import numpy as np\n",
    "\n",
    "# Transforms a session string into a dictionary containing the number of visits for each page in the session.\n",
    "def total_visits(session):\n",
    "    visits = session.split(\" \")\n",
    "    total_visits = {}\n",
    "    for v in visits:\n",
    "        if v in total_visits:\n",
    "            total_visits[v] += 1\n",
    "        else:\n",
    "            total_visits[v] = 1\n",
    "    return total_visits\n",
    "\n",
    "# Distance function for the clustering algorithm.\n",
    "def jaccard(s1, s2):\n",
    "    s1_visits, s2_visits = total_visits(s1), total_visits(s2)\n",
    "    all_pages = set(list(s1_visits.keys()) + list(s2_visits.keys()))\n",
    "    intersection = 0\n",
    "    union = len(all_pages)\n",
    "    for key in all_pages:\n",
    "        if key in s1_visits and key in s2_visits:\n",
    "            intersection += 1\n",
    "    return 1 - intersection / union"
   ]
  },
  {
   "cell_type": "markdown",
   "metadata": {},
   "source": [
    "Dado que los datos son strings, debemos calcular manualmente nuestra matriz de distancia."
   ]
  },
  {
   "cell_type": "code",
   "execution_count": 4,
   "metadata": {},
   "outputs": [
    {
     "name": "stdout",
     "output_type": "stream",
     "text": [
      "Iteration 1: ['1 19 19 23 19 19 34', '25 34 1 19 19', '1 19 19 34 24 24 1 1 19 19']\n",
      "Iteration 2: ['1 21 20 19 19 34 34 25', '1 19 19 11 16', '20 1 1 19 25 34']\n"
     ]
    }
   ],
   "source": [
    "dkm = DiscreteKMeans(n_clusters=3, distance_fun=jaccard)\n",
    "\n",
    "dkm.fit(list(df[\"sesión\"]))"
   ]
  },
  {
   "cell_type": "code",
   "execution_count": 5,
   "metadata": {},
   "outputs": [
    {
     "name": "stdout",
     "output_type": "stream",
     "text": [
      "{'1 21 20 19 19 34 34 25': 1214.6062244169907, '1 19 19 11 16': 1459.7954451520104, '20 1 1 19 25 34': 1232.9614029792294}\n",
      "{'1 21 20 19 19 34 34 25': 0.0, '1 19 19 11 16': 0.5625, '20 1 1 19 25 34': 0.027777777777777766}\n"
     ]
    }
   ],
   "source": [
    "print(dkm.wcs())\n",
    "print(dkm.bcs())"
   ]
  }
 ],
 "metadata": {
  "kernelspec": {
   "display_name": "Python 3",
   "language": "python",
   "name": "python3"
  },
  "language_info": {
   "codemirror_mode": {
    "name": "ipython",
    "version": 3
   },
   "file_extension": ".py",
   "mimetype": "text/x-python",
   "name": "python",
   "nbconvert_exporter": "python",
   "pygments_lexer": "ipython3",
   "version": "3.6.5"
  }
 },
 "nbformat": 4,
 "nbformat_minor": 2
}
